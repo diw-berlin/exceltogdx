{
 "cells": [
  {
   "cell_type": "markdown",
   "metadata": {},
   "source": [
    "#### This python tool converts excel files data into gdx"
   ]
  },
  {
   "cell_type": "markdown",
   "metadata": {},
   "source": [
    "See sheet name 'py' in the excel files that describes sets and parameters settings. Similar approach for https://www.gams.com/latest/docs/T_GDXXRW.html\n",
    "\n",
    "Particularly useful for linux and ios where GDXXRW.exe is not compatible, see here: https://forum.gamsworld.org/viewtopic.php?t=10418#p24019\n",
    "\n",
    "Required library:\n",
    " - gdxpds\n",
    " - pandas\n",
    " - openpyxl\n",
    " \n",
    "<font color='red'>If you find and error in the code, please rise and issue here.</font>"
   ]
  },
  {
   "cell_type": "code",
   "execution_count": 1,
   "metadata": {},
   "outputs": [],
   "source": [
    "from exceltogdx import exceltogdx"
   ]
  },
  {
   "cell_type": "code",
   "execution_count": 4,
   "metadata": {
    "scrolled": false
   },
   "outputs": [
    {
     "name": "stdout",
     "output_type": "stream",
     "text": [
      "set:  h\n",
      "set:  year\n",
      "set:  headers_time\n",
      "set:  headers_time_ev\n",
      "set:  headers_time_heat\n",
      "set:  headers_time_dhw\n",
      "par:  time_data_upload\n",
      "par:  ev_time_data_upload\n",
      "par:  reserves_time_data_activation\n",
      "par:  reserves_time_data_provision\n",
      "par:  dh_upload\n",
      "par:  theta_night\n",
      "par:  d_dhw_upload\n",
      "par:  nets_profile\n",
      "par:  temp_source_upload\n",
      "generating gdx file...\n",
      "Done!\n"
     ]
    }
   ],
   "source": [
    "frames = exceltogdx('time_series.xlsx','time_series.gdx')"
   ]
  },
  {
   "cell_type": "code",
   "execution_count": 5,
   "metadata": {},
   "outputs": [
    {
     "name": "stdout",
     "output_type": "stream",
     "text": [
      "set:  n\n",
      "set:  tech\n",
      "set:  headers_tech\n",
      "set:  tech_dispatch\n",
      "set:  tech_res_con\n",
      "set:  sto\n",
      "set:  headers_sto\n",
      "set:  rsvr\n",
      "set:  headers_reservoir\n",
      "set:  dsm\n",
      "set:  headers_dsm\n",
      "set:  dsm_type\n",
      "set:  l\n",
      "set:  headers_topology\n",
      "set:  ev\n",
      "set:  headers_ev\n",
      "set:  headers_prosumage_generation\n",
      "set:  headers_prosumage_storage\n",
      "set:  reserves\n",
      "set:  headers_reserves\n",
      "set:  reserves_up_down\n",
      "set:  reserves_spin_nonspin\n",
      "set:  reserves_prim_nonprim\n",
      "set:  bu\n",
      "set:  ch\n",
      "set:  heat_storage\n",
      "set:  heat_hp\n",
      "set:  heat_elec\n",
      "set:  heat_fossil\n",
      "set:  headers_heat\n",
      "par:  technology_data_upload\n",
      "par:  storage_data\n",
      "par:  reservoir_data\n",
      "par:  dsm_data_upload\n",
      "par:  topology_data\n",
      "par:  inc\n",
      "par:  ev_data\n",
      "par:  prosumage_data_generation\n",
      "par:  prosumage_data_storage\n",
      "par:  reserves_data_upload\n",
      "par:  heat_data_upload\n",
      "generating gdx file...\n",
      "Done!\n"
     ]
    }
   ],
   "source": [
    "frames = exceltogdx('data_input.xlsx','data_input.gdx')"
   ]
  },
  {
   "cell_type": "code",
   "execution_count": null,
   "metadata": {},
   "outputs": [],
   "source": []
  }
 ],
 "metadata": {
  "kernelspec": {
   "display_name": "Python 3",
   "language": "python",
   "name": "python3"
  },
  "language_info": {
   "codemirror_mode": {
    "name": "ipython",
    "version": 3
   },
   "file_extension": ".py",
   "mimetype": "text/x-python",
   "name": "python",
   "nbconvert_exporter": "python",
   "pygments_lexer": "ipython3",
   "version": "3.6.9"
  }
 },
 "nbformat": 4,
 "nbformat_minor": 2
}
